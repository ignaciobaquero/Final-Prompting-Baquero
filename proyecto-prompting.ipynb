{
 "cells": [
  {
   "cell_type": "code",
   "execution_count": 25,
   "id": "cab18171",
   "metadata": {},
   "outputs": [],
   "source": [
    "# CARGAR APIKEY\n",
    "\n",
    "import os\n",
    "import google.generativeai as genai\n",
    "\n",
    "\n",
    "api_key = os.getenv(\"GEMINI_API_KEY\")\n",
    "genai.configure(api_key=api_key)\n",
    "\n",
    "\n",
    "model = genai.GenerativeModel('gemini-1.5-flash') \n",
    "\n"
   ]
  },
  {
   "cell_type": "code",
   "execution_count": 26,
   "id": "fc1f6a30",
   "metadata": {},
   "outputs": [
    {
     "name": "stdout",
     "output_type": "stream",
     "text": [
      "\n",
      "Prompt baseline:\n",
      " Escribí un texto para vender gorras New Era de Chiter Caps en Instagram.\n"
     ]
    }
   ],
   "source": [
    "# 2️⃣ Prompt Baseline\n",
    "prompt_baseline = \"Escribí un texto para vender gorras New Era de Chiter Caps en Instagram.\"\n",
    "print(\"\\nPrompt baseline:\\n\", prompt_baseline)"
   ]
  },
  {
   "cell_type": "code",
   "execution_count": 27,
   "id": "fdcbbd0c",
   "metadata": {},
   "outputs": [
    {
     "name": "stdout",
     "output_type": "stream",
     "text": [
      "\n",
      "Prompt optimizado con plantilla:\n",
      " \n",
      "Actuá como un experto en marketing digital para e-commerce. \n",
      "Generá una publicación para Instagram que promocione gorra New Era exclusiva. \n",
      "El texto debe ser breve, con un tono juvenil y urbano, orientado a jóvenes de 18 a 25 años que buscan estilo streetwear. \n",
      "Incluí un llamado a la acción claro y un hashtag. Máximo 140 caracteres.\n",
      "\n"
     ]
    }
   ],
   "source": [
    "# 3️⃣ Prompt optimizado con plantilla\n",
    "producto = 'gorra New Era exclusiva'\n",
    "tono = 'juvenil y urbano'\n",
    "publico = 'jóvenes de 18 a 25 años que buscan estilo streetwear'\n",
    "\n",
    "prompt_template = f\"\"\"\n",
    "Actuá como un experto en marketing digital para e-commerce. \n",
    "Generá una publicación para Instagram que promocione {producto}. \n",
    "El texto debe ser breve, con un tono {tono}, orientado a {publico}. \n",
    "Incluí un llamado a la acción claro y un hashtag. Máximo 140 caracteres.\n",
    "\"\"\"\n",
    "\n",
    "print(\"\\nPrompt optimizado con plantilla:\\n\", prompt_template)"
   ]
  },
  {
   "cell_type": "code",
   "execution_count": 28,
   "id": "23b9ba30",
   "metadata": {},
   "outputs": [
    {
     "name": "stdout",
     "output_type": "stream",
     "text": [
      "Prompt few-shot:\n",
      " \n",
      "Ejemplo 1:\n",
      "Producto: gorra New Era negra\n",
      "Copy: \"Subí tu estilo al siguiente nivel con nuestra gorra New Era. Streetwear puro ➤ Comprala hoy\"\n",
      "\n",
      "Ejemplo 2:\n",
      "Producto: gorra New Era roja\n",
      "Copy: \"Gorra New Era roja: actitud y confort en cada paso. Limited drop ➤ llevátela ya\"\n",
      "\n",
      "Generá un copy para: gorra New Era exclusiva\n",
      "\n"
     ]
    }
   ],
   "source": [
    "few_shot_examples = '''\n",
    "Ejemplo 1:\n",
    "Producto: gorra New Era negra\n",
    "Copy: \"Subí tu estilo al siguiente nivel con nuestra gorra New Era. Streetwear puro ➤ Comprala hoy\"\n",
    "\n",
    "Ejemplo 2:\n",
    "Producto: gorra New Era roja\n",
    "Copy: \"Gorra New Era roja: actitud y confort en cada paso. Limited drop ➤ llevátela ya\"\n",
    "'''\n",
    "\n",
    "prompt_few_shot = few_shot_examples + '\\nGenerá un copy para: gorra New Era exclusiva\\n'\n",
    "print(\"Prompt few-shot:\\n\", prompt_few_shot)"
   ]
  },
  {
   "cell_type": "code",
   "execution_count": 29,
   "id": "e7c48511",
   "metadata": {},
   "outputs": [
    {
     "name": "stdout",
     "output_type": "stream",
     "text": [
      "\n",
      "Chain-of-thought simplificado:\n",
      " \n",
      "Paso 1: Identificá el público objetivo y su deseo principal.\n",
      "Paso 2: Resaltá 2 beneficios de la gorra en una frase corta.\n",
      "Paso 3: Incluí un llamado a la acción con urgencia.\n",
      "Ahora, generá el copy resultante para la gorra New Era exclusiva, máximo 140 caracteres.\n",
      "\n"
     ]
    }
   ],
   "source": [
    "# 5️⃣ Chain-of-Thought simplificado\n",
    "cot_prompt = '''\n",
    "Paso 1: Identificá el público objetivo y su deseo principal.\n",
    "Paso 2: Resaltá 2 beneficios de la gorra en una frase corta.\n",
    "Paso 3: Incluí un llamado a la acción con urgencia.\n",
    "Ahora, generá el copy resultante para la gorra New Era exclusiva, máximo 140 caracteres.\n",
    "'''\n",
    "\n",
    "print(\"\\nChain-of-thought simplificado:\\n\", cot_prompt)"
   ]
  },
  {
   "cell_type": "code",
   "execution_count": 30,
   "id": "86627d99",
   "metadata": {},
   "outputs": [],
   "source": [
    "\n",
    "final_prompt = prompt_few_shot + \"\\n\" + cot_prompt\n",
    "\n",
    "response = model.generate_content(\n",
    "    final_prompt,\n",
    "    generation_config={\n",
    "        \"temperature\": 0.7,\n",
    "        \"max_output_tokens\": 150\n",
    "    }\n",
    ")"
   ]
  },
  {
   "cell_type": "code",
   "execution_count": 31,
   "id": "215c30cc",
   "metadata": {},
   "outputs": [
    {
     "name": "stdout",
     "output_type": "stream",
     "text": [
      "\n",
      "✅ Texto generado por Gemini:\n",
      "\n",
      "**Paso 1:** Público objetivo: amantes de la moda urbana que buscan exclusividad y estilo. Deseo principal: destacarse del resto.\n",
      "\n",
      "**Paso 2:** Beneficios:  Exclusividad y estilo superior.\n",
      "\n",
      "**Paso 3:** Llamado a la acción: ¡Últimas unidades!\n",
      "\n",
      "**Copy resultante:**\n",
      "\n",
      "Gorra New Era exclusiva: estilo superior, ¡exclusividad total!  ¡Asegura la tuya antes que se agoten!\n",
      "\n"
     ]
    }
   ],
   "source": [
    "# 7️⃣ Mostrar el resultado\n",
    "print(\"\\n✅ Texto generado por Gemini:\\n\")\n",
    "print(response.text)"
   ]
  },
  {
   "cell_type": "code",
   "execution_count": 32,
   "id": "ada89857",
   "metadata": {},
   "outputs": [],
   "source": [
    "\n",
    "# ------------------------------------------------\n",
    "# 8️⃣ Prompt para generar imagen en NightCafe\n",
    "prompt_image = \"\"\"\n",
    "Imagen de alta calidad para foto de instagram relacionado a New era y ese estilo streetwear , colores negro y rojo, logo minimalista, underground , luces cinematograficas , !\n",
    "\"\"\"\n"
   ]
  }
 ],
 "metadata": {
  "kernelspec": {
   "display_name": "base",
   "language": "python",
   "name": "python3"
  },
  "language_info": {
   "codemirror_mode": {
    "name": "ipython",
    "version": 3
   },
   "file_extension": ".py",
   "mimetype": "text/x-python",
   "name": "python",
   "nbconvert_exporter": "python",
   "pygments_lexer": "ipython3",
   "version": "3.13.5"
  }
 },
 "nbformat": 4,
 "nbformat_minor": 5
}
